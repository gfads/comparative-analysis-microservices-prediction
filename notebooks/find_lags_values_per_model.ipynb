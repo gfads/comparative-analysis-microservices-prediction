{
 "cells": [
  {
   "cell_type": "code",
   "execution_count": 2,
   "id": "bd32285f-0977-4ddf-9f21-c4b5b28c8978",
   "metadata": {},
   "outputs": [],
   "source": [
    "import pandas as pd"
   ]
  },
  {
   "cell_type": "code",
   "execution_count": 8,
   "id": "86f70ff5-5cee-4da7-a1cc-f92f559cb2b4",
   "metadata": {},
   "outputs": [
    {
     "name": "stdout",
     "output_type": "stream",
     "text": [
      "40\n",
      "30\n",
      "20\n",
      "10\n",
      "50\n",
      "30\n",
      "60\n",
      "10\n",
      "30\n",
      "30\n"
     ]
    }
   ],
   "source": [
    "for i in ['1', '2','3','4','5','6','7','8','9','10']:\n",
    "    # Read CSV while ensuring proper parsing\n",
    "    df = pd.read_csv(\"results/microservice \"+i+\"/traffic/hyper_parameter/lags.csv\")\n",
    "    # Find the minimum value\n",
    "\n",
    "    print(df['svr'].to_list()[0])\n",
    "    #min_value = df.min(axis=1).min()\n",
    "    #lag = min(df[df.eq(min_value).any(axis=1)])\n",
    "    \n",
    "    #model = df[df.eq(min_value).any(axis=1)]['Unnamed: 0'].to_list()[0]\n",
    "#print(f\"Min value: {min_value}, Column: {col_name}, Model: {row_id}\")"
   ]
  },
  {
   "cell_type": "code",
   "execution_count": null,
   "id": "7d63e168-eb1f-4883-82fd-81d2d3b5b5d4",
   "metadata": {},
   "outputs": [],
   "source": []
  }
 ],
 "metadata": {
  "kernelspec": {
   "display_name": "Python 3 (ipykernel)",
   "language": "python",
   "name": "python3"
  },
  "language_info": {
   "codemirror_mode": {
    "name": "ipython",
    "version": 3
   },
   "file_extension": ".py",
   "mimetype": "text/x-python",
   "name": "python",
   "nbconvert_exporter": "python",
   "pygments_lexer": "ipython3",
   "version": "3.8.10"
  }
 },
 "nbformat": 4,
 "nbformat_minor": 5
}
